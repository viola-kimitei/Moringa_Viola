{
 "cells": [
  {
   "cell_type": "code",
   "execution_count": 1,
   "id": "28519712-c958-4c44-b2d4-7f34b3365695",
   "metadata": {},
   "outputs": [
    {
     "data": {
      "text/plain": [
       "42"
      ]
     },
     "execution_count": 1,
     "metadata": {},
     "output_type": "execute_result"
    }
   ],
   "source": [
    "number = 42\n",
    "number"
   ]
  },
  {
   "cell_type": "code",
   "execution_count": 5,
   "id": "1e9f8bf1-84dc-4b3d-8270-ff600bcd52d5",
   "metadata": {},
   "outputs": [
    {
     "data": {
      "text/plain": [
       "'change things'"
      ]
     },
     "execution_count": 5,
     "metadata": {},
     "output_type": "execute_result"
    }
   ],
   "source": [
    "flatiron_mantra =(\"change things\")\n",
    "flatiron_mantra"
   ]
  },
  {
   "cell_type": "code",
   "execution_count": 7,
   "id": "8977acae-7d9f-4a6b-9e2d-7959bd3af313",
   "metadata": {},
   "outputs": [],
   "source": [
    "### This is a new header"
   ]
  },
  {
   "cell_type": "code",
   "execution_count": null,
   "id": "aa463686-c177-4ebc-b789-17c705cdd87d",
   "metadata": {},
   "outputs": [],
   "source": []
  }
 ],
 "metadata": {
  "kernelspec": {
   "display_name": "Python [conda env:base] *",
   "language": "python",
   "name": "conda-base-py"
  },
  "language_info": {
   "codemirror_mode": {
    "name": "ipython",
    "version": 3
   },
   "file_extension": ".py",
   "mimetype": "text/x-python",
   "name": "python",
   "nbconvert_exporter": "python",
   "pygments_lexer": "ipython3",
   "version": "3.12.7"
  }
 },
 "nbformat": 4,
 "nbformat_minor": 5
}
