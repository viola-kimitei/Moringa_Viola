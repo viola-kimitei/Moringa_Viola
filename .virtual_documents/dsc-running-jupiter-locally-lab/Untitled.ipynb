number = 42
number


flatiron_mantra =("change things")
flatiron_mantra


### This is a new header



